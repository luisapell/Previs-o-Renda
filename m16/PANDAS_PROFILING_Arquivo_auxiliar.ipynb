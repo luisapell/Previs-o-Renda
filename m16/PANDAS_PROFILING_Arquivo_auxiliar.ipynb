{
  "nbformat": 4,
  "nbformat_minor": 0,
  "metadata": {
    "colab": {
      "provenance": []
    },
    "kernelspec": {
      "name": "python3",
      "display_name": "Python 3"
    },
    "language_info": {
      "name": "python"
    }
  },
  "cells": [
    {
      "cell_type": "markdown",
      "source": [
        "# Devido a descontinuação da biblioteca padas profiling recomendamos os alunos adotarem a ydata profiling, que conta com as mesmas utilidades. Para isso sigam os passos abaixo:"
      ],
      "metadata": {
        "id": "VfcwlNLjQPcV"
      }
    },
    {
      "cell_type": "code",
      "source": [
        "!pip install ydata_profiling"
      ],
      "metadata": {
        "id": "jbrf65bVQbPQ"
      },
      "execution_count": null,
      "outputs": []
    },
    {
      "cell_type": "code",
      "source": [
        "from ydata_profiling import ProfileReport"
      ],
      "metadata": {
        "id": "xMJiHpM3Qelt"
      },
      "execution_count": null,
      "outputs": []
    }
  ]
}